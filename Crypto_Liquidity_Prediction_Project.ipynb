{
 "cells": [
  {
   "cell_type": "markdown",
   "metadata": {},
   "source": [
    "# Cryptocurrency Liquidity Prediction for Market Stability\n",
    "\n",
    "This project aims to build a machine learning model to predict liquidity levels in the cryptocurrency market using historical data."
   ]
  },
  {
   "cell_type": "markdown",
   "metadata": {},
   "source": [
    "## Problem Statement\n",
    "\n",
    "Cryptocurrency markets are highly volatile, and liquidity plays a crucial role in maintaining stability. This project forecasts liquidity using price, volume, and market data."
   ]
  },
  {
   "cell_type": "code",
   "execution_count": 1,
   "metadata": {},
   "outputs": [
    {
     "name": "stderr",
     "output_type": "stream",
     "text": [
      "C:\\ProgramData\\Anaconda3\\lib\\site-packages\\pandas\\compat\\_optional.py:138: UserWarning: Pandas requires version '2.7.0' or newer of 'numexpr' (version '2.6.9' currently installed).\n",
      "  warnings.warn(msg, UserWarning)\n"
     ]
    }
   ],
   "source": [
    "import pandas as pd\n",
    "import numpy as np\n",
    "import matplotlib.pyplot as plt\n",
    "import seaborn as sns\n",
    "from sklearn.model_selection import train_test_split\n",
    "from sklearn.preprocessing import StandardScaler\n",
    "from sklearn.ensemble import RandomForestRegressor\n",
    "from sklearn.metrics import mean_squared_error, mean_absolute_error, r2_score\n",
    "import warnings\n",
    "warnings.filterwarnings(\"ignore\")"
   ]
  },
  {
   "cell_type": "markdown",
   "metadata": {},
   "source": [
    "## Load Datasets"
   ]
  },
  {
   "cell_type": "code",
   "execution_count": 2,
   "metadata": {},
   "outputs": [
    {
     "data": {
      "text/html": [
       "<div>\n",
       "<style scoped>\n",
       "    .dataframe tbody tr th:only-of-type {\n",
       "        vertical-align: middle;\n",
       "    }\n",
       "\n",
       "    .dataframe tbody tr th {\n",
       "        vertical-align: top;\n",
       "    }\n",
       "\n",
       "    .dataframe thead th {\n",
       "        text-align: right;\n",
       "    }\n",
       "</style>\n",
       "<table border=\"1\" class=\"dataframe\">\n",
       "  <thead>\n",
       "    <tr style=\"text-align: right;\">\n",
       "      <th></th>\n",
       "      <th>coin</th>\n",
       "      <th>symbol</th>\n",
       "      <th>price</th>\n",
       "      <th>1h</th>\n",
       "      <th>24h</th>\n",
       "      <th>7d</th>\n",
       "      <th>24h_volume</th>\n",
       "      <th>mkt_cap</th>\n",
       "      <th>date</th>\n",
       "    </tr>\n",
       "  </thead>\n",
       "  <tbody>\n",
       "    <tr>\n",
       "      <th>0</th>\n",
       "      <td>Bitcoin</td>\n",
       "      <td>BTC</td>\n",
       "      <td>40859.460000</td>\n",
       "      <td>0.022</td>\n",
       "      <td>0.030</td>\n",
       "      <td>0.055</td>\n",
       "      <td>3.539076e+10</td>\n",
       "      <td>7.709915e+11</td>\n",
       "      <td>2022-03-16</td>\n",
       "    </tr>\n",
       "    <tr>\n",
       "      <th>1</th>\n",
       "      <td>Ethereum</td>\n",
       "      <td>ETH</td>\n",
       "      <td>2744.410000</td>\n",
       "      <td>0.024</td>\n",
       "      <td>0.034</td>\n",
       "      <td>0.065</td>\n",
       "      <td>1.974870e+10</td>\n",
       "      <td>3.271044e+11</td>\n",
       "      <td>2022-03-16</td>\n",
       "    </tr>\n",
       "    <tr>\n",
       "      <th>2</th>\n",
       "      <td>Tether</td>\n",
       "      <td>USDT</td>\n",
       "      <td>1.000000</td>\n",
       "      <td>-0.001</td>\n",
       "      <td>-0.001</td>\n",
       "      <td>0.000</td>\n",
       "      <td>5.793497e+10</td>\n",
       "      <td>7.996516e+10</td>\n",
       "      <td>2022-03-16</td>\n",
       "    </tr>\n",
       "    <tr>\n",
       "      <th>3</th>\n",
       "      <td>BNB</td>\n",
       "      <td>BNB</td>\n",
       "      <td>383.430000</td>\n",
       "      <td>0.018</td>\n",
       "      <td>0.028</td>\n",
       "      <td>0.004</td>\n",
       "      <td>1.395854e+09</td>\n",
       "      <td>6.404382e+10</td>\n",
       "      <td>2022-03-16</td>\n",
       "    </tr>\n",
       "    <tr>\n",
       "      <th>4</th>\n",
       "      <td>USD Coin</td>\n",
       "      <td>USDC</td>\n",
       "      <td>0.999874</td>\n",
       "      <td>-0.001</td>\n",
       "      <td>0.000</td>\n",
       "      <td>-0.000</td>\n",
       "      <td>3.872274e+09</td>\n",
       "      <td>5.222214e+10</td>\n",
       "      <td>2022-03-16</td>\n",
       "    </tr>\n",
       "  </tbody>\n",
       "</table>\n",
       "</div>"
      ],
      "text/plain": [
       "       coin symbol         price     1h    24h     7d    24h_volume  \\\n",
       "0   Bitcoin    BTC  40859.460000  0.022  0.030  0.055  3.539076e+10   \n",
       "1  Ethereum    ETH   2744.410000  0.024  0.034  0.065  1.974870e+10   \n",
       "2    Tether   USDT      1.000000 -0.001 -0.001  0.000  5.793497e+10   \n",
       "3       BNB    BNB    383.430000  0.018  0.028  0.004  1.395854e+09   \n",
       "4  USD Coin   USDC      0.999874 -0.001  0.000 -0.000  3.872274e+09   \n",
       "\n",
       "        mkt_cap        date  \n",
       "0  7.709915e+11  2022-03-16  \n",
       "1  3.271044e+11  2022-03-16  \n",
       "2  7.996516e+10  2022-03-16  \n",
       "3  6.404382e+10  2022-03-16  \n",
       "4  5.222214e+10  2022-03-16  "
      ]
     },
     "execution_count": 2,
     "metadata": {},
     "output_type": "execute_result"
    }
   ],
   "source": [
    "df_16 = pd.read_csv(\"coin_gecko_2022-03-16.csv\")\n",
    "df_17 = pd.read_csv(\"coin_gecko_2022-03-17.csv\")\n",
    "df = pd.concat([df_16, df_17], ignore_index=True)\n",
    "df.head()"
   ]
  },
  {
   "cell_type": "markdown",
   "metadata": {},
   "source": [
    "## Data Preprocessing"
   ]
  },
  {
   "cell_type": "code",
   "execution_count": 3,
   "metadata": {},
   "outputs": [
    {
     "name": "stdout",
     "output_type": "stream",
     "text": [
      "coin          0\n",
      "symbol        0\n",
      "price         0\n",
      "1h            7\n",
      "24h           7\n",
      "7d            8\n",
      "24h_volume    7\n",
      "mkt_cap       0\n",
      "date          0\n",
      "dtype: int64\n"
     ]
    }
   ],
   "source": [
    "# Check for missing values\n",
    "print(df.isnull().sum())\n",
    "\n",
    "# Convert date to datetime\n",
    "df['date'] = pd.to_datetime(df['date'])\n",
    "\n",
    "# Convert percent columns\n",
    "for col in ['1h', '24h', '7d']:\n",
    "    df[col] = pd.to_numeric(df[col], errors='coerce')\n",
    "\n",
    "# Drop rows with missing values\n",
    "df.dropna(inplace=True)\n",
    "df.reset_index(drop=True, inplace=True)"
   ]
  },
  {
   "cell_type": "markdown",
   "metadata": {},
   "source": [
    "## Feature Engineering"
   ]
  },
  {
   "cell_type": "code",
   "execution_count": 4,
   "metadata": {},
   "outputs": [
    {
     "data": {
      "text/html": [
       "<div>\n",
       "<style scoped>\n",
       "    .dataframe tbody tr th:only-of-type {\n",
       "        vertical-align: middle;\n",
       "    }\n",
       "\n",
       "    .dataframe tbody tr th {\n",
       "        vertical-align: top;\n",
       "    }\n",
       "\n",
       "    .dataframe thead th {\n",
       "        text-align: right;\n",
       "    }\n",
       "</style>\n",
       "<table border=\"1\" class=\"dataframe\">\n",
       "  <thead>\n",
       "    <tr style=\"text-align: right;\">\n",
       "      <th></th>\n",
       "      <th>price</th>\n",
       "      <th>1h</th>\n",
       "      <th>24h</th>\n",
       "      <th>7d</th>\n",
       "      <th>24h_volume</th>\n",
       "      <th>mkt_cap</th>\n",
       "      <th>liquidity_ratio</th>\n",
       "      <th>volatility</th>\n",
       "    </tr>\n",
       "  </thead>\n",
       "  <tbody>\n",
       "    <tr>\n",
       "      <th>0</th>\n",
       "      <td>40859.460000</td>\n",
       "      <td>0.022</td>\n",
       "      <td>0.030</td>\n",
       "      <td>0.055</td>\n",
       "      <td>3.539076e+10</td>\n",
       "      <td>7.709915e+11</td>\n",
       "      <td>0.045903</td>\n",
       "      <td>0.017214</td>\n",
       "    </tr>\n",
       "    <tr>\n",
       "      <th>1</th>\n",
       "      <td>2744.410000</td>\n",
       "      <td>0.024</td>\n",
       "      <td>0.034</td>\n",
       "      <td>0.065</td>\n",
       "      <td>1.974870e+10</td>\n",
       "      <td>3.271044e+11</td>\n",
       "      <td>0.060374</td>\n",
       "      <td>0.021378</td>\n",
       "    </tr>\n",
       "    <tr>\n",
       "      <th>2</th>\n",
       "      <td>1.000000</td>\n",
       "      <td>-0.001</td>\n",
       "      <td>-0.001</td>\n",
       "      <td>0.000</td>\n",
       "      <td>5.793497e+10</td>\n",
       "      <td>7.996516e+10</td>\n",
       "      <td>0.724503</td>\n",
       "      <td>0.000577</td>\n",
       "    </tr>\n",
       "    <tr>\n",
       "      <th>3</th>\n",
       "      <td>383.430000</td>\n",
       "      <td>0.018</td>\n",
       "      <td>0.028</td>\n",
       "      <td>0.004</td>\n",
       "      <td>1.395854e+09</td>\n",
       "      <td>6.404382e+10</td>\n",
       "      <td>0.021795</td>\n",
       "      <td>0.012055</td>\n",
       "    </tr>\n",
       "    <tr>\n",
       "      <th>4</th>\n",
       "      <td>0.999874</td>\n",
       "      <td>-0.001</td>\n",
       "      <td>0.000</td>\n",
       "      <td>-0.000</td>\n",
       "      <td>3.872274e+09</td>\n",
       "      <td>5.222214e+10</td>\n",
       "      <td>0.074150</td>\n",
       "      <td>0.000577</td>\n",
       "    </tr>\n",
       "  </tbody>\n",
       "</table>\n",
       "</div>"
      ],
      "text/plain": [
       "          price     1h    24h     7d    24h_volume       mkt_cap  \\\n",
       "0  40859.460000  0.022  0.030  0.055  3.539076e+10  7.709915e+11   \n",
       "1   2744.410000  0.024  0.034  0.065  1.974870e+10  3.271044e+11   \n",
       "2      1.000000 -0.001 -0.001  0.000  5.793497e+10  7.996516e+10   \n",
       "3    383.430000  0.018  0.028  0.004  1.395854e+09  6.404382e+10   \n",
       "4      0.999874 -0.001  0.000 -0.000  3.872274e+09  5.222214e+10   \n",
       "\n",
       "   liquidity_ratio  volatility  \n",
       "0         0.045903    0.017214  \n",
       "1         0.060374    0.021378  \n",
       "2         0.724503    0.000577  \n",
       "3         0.021795    0.012055  \n",
       "4         0.074150    0.000577  "
      ]
     },
     "execution_count": 4,
     "metadata": {},
     "output_type": "execute_result"
    }
   ],
   "source": [
    "# Liquidity Ratio = Volume / Market Cap\n",
    "df['liquidity_ratio'] = df['24h_volume'] / df['mkt_cap']\n",
    "\n",
    "# Price volatility indicator\n",
    "df['volatility'] = df[['1h', '24h', '7d']].std(axis=1)\n",
    "\n",
    "# Drop non-numeric or ID columns\n",
    "df_features = df.drop(['coin', 'symbol', 'date'], axis=1)\n",
    "df_features.head()"
   ]
  },
  {
   "cell_type": "markdown",
   "metadata": {},
   "source": [
    "## Model Training and Evaluation"
   ]
  },
  {
   "cell_type": "code",
   "execution_count": 5,
   "metadata": {},
   "outputs": [
    {
     "name": "stdout",
     "output_type": "stream",
     "text": [
      "RMSE: 0.07141635164662793\n",
      "MAE: 0.01859272374160329\n",
      "R² Score: 0.6590147886333855\n"
     ]
    }
   ],
   "source": [
    "# Define features and target\n",
    "X = df_features.drop('liquidity_ratio', axis=1)\n",
    "y = df_features['liquidity_ratio']\n",
    "\n",
    "# Split data\n",
    "X_train, X_test, y_train, y_test = train_test_split(X, y, test_size=0.2, random_state=42)\n",
    "\n",
    "# Scale features\n",
    "scaler = StandardScaler()\n",
    "X_train_scaled = scaler.fit_transform(X_train)\n",
    "X_test_scaled = scaler.transform(X_test)\n",
    "\n",
    "# Train model\n",
    "model = RandomForestRegressor(random_state=42)\n",
    "model.fit(X_train_scaled, y_train)\n",
    "\n",
    "# Predict\n",
    "y_pred = model.predict(X_test_scaled)\n",
    "\n",
    "# Evaluation\n",
    "print(\"RMSE:\", mean_squared_error(y_test, y_pred, squared=False))\n",
    "print(\"MAE:\", mean_absolute_error(y_test, y_pred))\n",
    "print(\"R² Score:\", r2_score(y_test, y_pred))"
   ]
  },
  {
   "cell_type": "markdown",
   "metadata": {},
   "source": [
    "### The project's essential graphs and plots are listed here."
   ]
  },
  {
   "cell_type": "code",
   "execution_count": 6,
   "metadata": {
    "scrolled": false
   },
   "outputs": [
    {
     "data": {
      "image/png": "[encoded data removed]",
      "text/plain": [
       "<Figure size 720x576 with 2 Axes>"
      ]
     },
     "metadata": {
      "needs_background": "light"
     },
     "output_type": "display_data"
    }
   ],
   "source": [
    "import seaborn as sns\n",
    "import matplotlib.pyplot as plt\n",
    "\n",
    "plt.figure(figsize=(10, 8))\n",
    "sns.heatmap(df_features.corr(), annot=True, cmap='coolwarm', fmt=\".2f\")\n",
    "plt.title(\"Correlation Heatmap\")\n",
    "plt.show()"
   ]
  },
  {
   "cell_type": "code",
   "execution_count": 14,
   "metadata": {},
   "outputs": [
    {
     "data": {
      "image/png": "[encoded data removed]",
      "text/plain": [
       "<Figure size 432x288 with 1 Axes>"
      ]
     },
     "metadata": {
      "needs_background": "light"
     },
     "output_type": "display_data"
    }
   ],
   "source": [
    "sns.distplot(df_features['liquidity_ratio'], kde=True, color='orange')\n",
    "plt.title(\"Distribution of Liquidity Ratio\")\n",
    "plt.xlabel(\"Liquidity Ratio\")\n",
    "plt.ylabel(\"Frequency\")\n",
    "plt.show()"
   ]
  },
  {
   "cell_type": "code",
   "execution_count": 8,
   "metadata": {
    "scrolled": true
   },
   "outputs": [
    {
     "data": {
      "image/png": "[encoded data removed]",
      "text/plain": [
       "<Figure size 432x288 with 1 Axes>"
      ]
     },
     "metadata": {
      "needs_background": "light"
     },
     "output_type": "display_data"
    }
   ],
   "source": [
    "import pandas as pd\n",
    "\n",
    "importances = model.feature_importances_\n",
    "feat_imp = pd.Series(importances, index=X.columns).sort_values(ascending=False)\n",
    "\n",
    "sns.barplot(x=feat_imp.values, y=feat_imp.index, palette='viridis')\n",
    "plt.title(\"Feature Importances\")\n",
    "plt.xlabel(\"Importance\")\n",
    "plt.ylabel(\"Feature\")\n",
    "plt.show()"
   ]
  },
  {
   "cell_type": "code",
   "execution_count": 9,
   "metadata": {},
   "outputs": [
    {
     "data": {
      "image/png": "[encoded data removed]",
      "text/plain": [
       "<Figure size 432x288 with 1 Axes>"
      ]
     },
     "metadata": {
      "needs_background": "light"
     },
     "output_type": "display_data"
    }
   ],
   "source": [
    "import pandas as pd\n",
    "import seaborn as sns\n",
    "\n",
    "df_results = pd.DataFrame({'Actual': y_test.values, 'Predicted': y_pred})\n",
    "sns.scatterplot(x='Actual', y='Predicted', data=df_results)\n",
    "plt.plot([y.min(), y.max()], [y.min(), y.max()], 'r--')  # Diagonal line\n",
    "plt.title(\"Actual vs Predicted\")\n",
    "plt.xlabel(\"Actual\")\n",
    "plt.ylabel(\"Predicted\")\n",
    "plt.show()\n"
   ]
  },
  {
   "cell_type": "code",
   "execution_count": 12,
   "metadata": {},
   "outputs": [
    {
     "data": {
      "image/png": "[encoded data removed]",
      "text/plain": [
       "<Figure size 432x288 with 1 Axes>"
      ]
     },
     "metadata": {
      "needs_background": "light"
     },
     "output_type": "display_data"
    }
   ],
   "source": [
    "residuals = df_results['Actual'] - df_results['Predicted']\n",
    "sns.distplot(residuals, kde=True, color='green')\n",
    "plt.title(\"Residuals Distribution\")\n",
    "plt.xlabel(\"Error\")\n",
    "plt.show()"
   ]
  },
  {
   "cell_type": "markdown",
   "metadata": {},
   "source": [
    "## Conclusion\n",
    "In this project, we developed a predictive machine learning model aimed at estimating the liquidity ratio of cryptocurrencies—a key indicator for assessing market stability. Using historical data from CoinGecko, we carried out a comprehensive end-to-end pipeline including data preprocessing, feature engineering, exploratory data analysis, model training, evaluation, and visualization.\n",
    "\n",
    "Through EDA, we discovered several key insights:\n",
    "\n",
    "Most cryptocurrencies exhibit low liquidity ratios, with a few outliers that may represent either highly traded assets or anomalies.\n",
    "\n",
    "Strong positive correlations were observed between market capitalization and 24-hour volume, which aligns with expected market behavior.\n",
    "\n",
    "Volatility, defined as the standard deviation of short-term price movements, varies widely and provides meaningful input for liquidity forecasting.\n",
    "\n",
    "After feature engineering, we trained a Random Forest Regressor, which showed solid performance with:\n",
    "\n",
    "R² Score: 0.659\n",
    "\n",
    "Root Mean Squared Error (RMSE): 0.071\n",
    "\n",
    "Mean Absolute Error (MAE): 0.0186\n",
    "\n",
    "The feature importance analysis highlighted that:\n",
    "\n",
    "24h price change, volatility, and 24h trading volume are the most influential features in predicting liquidity ratio.\n",
    "\n",
    "Surprisingly, raw market capitalization alone wasn’t as significant when combined with other features.\n",
    "\n",
    "The Actual vs Predicted plot demonstrated a fairly linear relationship, indicating that the model was able to capture the overall trend and variance in the target variable. The residual distribution was roughly centered around zero, which suggests the model errors were normally distributed—an encouraging sign of generalization."
   ]
  },
  {
   "cell_type": "markdown",
   "metadata": {},
   "source": [
    "## Final Thoughts"
   ]
  },
  {
   "cell_type": "markdown",
   "metadata": {},
   "source": [
    "The model provides a reliable estimation of liquidity for most assets and can be a valuable tool in:\n",
    "\n",
    "Identifying illiquid cryptocurrencies that pose a risk to traders.\n",
    "\n",
    "Supporting exchange platforms in assessing the stability of listed coins.\n",
    "\n",
    "Enabling regulators or analysts to monitor systemic risks in crypto markets.\n",
    "\n",
    "To improve the model further, future work could include:\n",
    "\n",
    "Incorporating time-series data to capture trends over time.\n",
    "\n",
    "Integrating external data sources such as social sentiment or macroeconomic indicators.\n",
    "\n",
    "Testing with alternative regression models like Gradient Boosting, XGBoost, or LSTM networks for temporal dependencies.\n",
    "\n",
    "This project establishes a strong foundation for leveraging machine learning in financial risk assessment within the dynamic and volatile world of cryptocurrencies."
   ]
  },
  {
   "cell_type": "markdown",
   "metadata": {},
   "source": [
    "# Thank You !!!"
   ]
  }
 ],
 "metadata": {
  "kernelspec": {
   "display_name": "Python 3",
   "language": "python",
   "name": "python3"
  },
  "language_info": {
   "codemirror_mode": {
    "name": "ipython",
    "version": 3
   },
   "file_extension": ".py",
   "mimetype": "text/x-python",
   "name": "python",
   "nbconvert_exporter": "python",
   "pygments_lexer": "ipython3",
   "version": "3.7.3"
  }
 },
 "nbformat": 4,
 "nbformat_minor": 5
}
